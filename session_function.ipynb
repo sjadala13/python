{
 "cells": [
  {
   "cell_type": "code",
   "execution_count": 34,
   "metadata": {
    "collapsed": true
   },
   "outputs": [],
   "source": [
    "list_01 = []\n",
    "my_list_01 = [1,2,3,4,5,6,7,8,9,10,34,65,87,98]\n",
    "even_list_01 = []\n",
    "odd_list_01 = []"
   ]
  },
  {
   "cell_type": "code",
   "execution_count": 50,
   "metadata": {
    "collapsed": true
   },
   "outputs": [],
   "source": [
    "def fun_list(list_01):\n",
    "    for i in list_01:\n",
    "        if i % 2 == 0:\n",
    "            even_list_01.append(i)\n",
    "        else:\n",
    "            odd_list_01.append(i)\n",
    "    return even_list_01, odd_list_01"
   ]
  },
  {
   "cell_type": "code",
   "execution_count": 51,
   "metadata": {},
   "outputs": [],
   "source": [
    "list_display = fun_list(my_list_01)"
   ]
  },
  {
   "cell_type": "code",
   "execution_count": 52,
   "metadata": {},
   "outputs": [
    {
     "name": "stdout",
     "output_type": "stream",
     "text": [
      "([2, 4, 6, 8, 10, 34, 98, 2, 4, 6, 8, 10, 34, 98, 2, 4, 6, 8, 10, 34, 98, 2, 4, 6, 8, 10, 34, 98, 2, 4, 6, 8, 10, 34, 98, 2, 4, 6, 8, 10, 34, 98, 2, 4, 6, 8, 10, 34, 98, 2, 4, 6, 8, 10, 34, 98], [1, 3, 5, 7, 9, 65, 87, 1, 3, 5, 7, 9, 65, 87, 1, 3, 5, 7, 9, 65, 87, 1, 3, 5, 7, 9, 65, 87, 1, 3, 5, 7, 9, 65, 87, 1, 3, 5, 7, 9, 65, 87, 1, 3, 5, 7, 9, 65, 87, 1, 3, 5, 7, 9, 65, 87])\n"
     ]
    }
   ],
   "source": [
    "print(list_display)"
   ]
  },
  {
   "cell_type": "code",
   "execution_count": 53,
   "metadata": {},
   "outputs": [
    {
     "name": "stdout",
     "output_type": "stream",
     "text": [
      "([2, 4, 6, 8, 10, 34, 98, 2, 4, 6, 8, 10, 34, 98, 2, 4, 6, 8, 10, 34, 98, 2, 4, 6, 8, 10, 34, 98, 2, 4, 6, 8, 10, 34, 98, 2, 4, 6, 8, 10, 34, 98, 2, 4, 6, 8, 10, 34, 98, 2, 4, 6, 8, 10, 34, 98, 2, 4, 6, 8, 10, 34, 98], [1, 3, 5, 7, 9, 65, 87, 1, 3, 5, 7, 9, 65, 87, 1, 3, 5, 7, 9, 65, 87, 1, 3, 5, 7, 9, 65, 87, 1, 3, 5, 7, 9, 65, 87, 1, 3, 5, 7, 9, 65, 87, 1, 3, 5, 7, 9, 65, 87, 1, 3, 5, 7, 9, 65, 87, 1, 3, 5, 7, 9, 65, 87])\n"
     ]
    }
   ],
   "source": [
    "list_display_01  = fun_list(my_list_01)\n",
    "print(list_display_01)"
   ]
  },
  {
   "cell_type": "code",
   "execution_count": 54,
   "metadata": {},
   "outputs": [
    {
     "name": "stdout",
     "output_type": "stream",
     "text": [
      "([2, 4, 6, 8, 10, 34, 98, 2, 4, 6, 8, 10, 34, 98, 2, 4, 6, 8, 10, 34, 98, 2, 4, 6, 8, 10, 34, 98, 2, 4, 6, 8, 10, 34, 98, 2, 4, 6, 8, 10, 34, 98, 2, 4, 6, 8, 10, 34, 98, 2, 4, 6, 8, 10, 34, 98, 2, 4, 6, 8, 10, 34, 98], [1, 3, 5, 7, 9, 65, 87, 1, 3, 5, 7, 9, 65, 87, 1, 3, 5, 7, 9, 65, 87, 1, 3, 5, 7, 9, 65, 87, 1, 3, 5, 7, 9, 65, 87, 1, 3, 5, 7, 9, 65, 87, 1, 3, 5, 7, 9, 65, 87, 1, 3, 5, 7, 9, 65, 87, 1, 3, 5, 7, 9, 65, 87])\n"
     ]
    }
   ],
   "source": [
    "print(list_display_01)"
   ]
  },
  {
   "cell_type": "code",
   "execution_count": 55,
   "metadata": {},
   "outputs": [
    {
     "name": "stdout",
     "output_type": "stream",
     "text": [
      "([2, 4, 6, 8, 10, 34, 98, 2, 4, 6, 8, 10, 34, 98, 2, 4, 6, 8, 10, 34, 98, 2, 4, 6, 8, 10, 34, 98, 2, 4, 6, 8, 10, 34, 98, 2, 4, 6, 8, 10, 34, 98, 2, 4, 6, 8, 10, 34, 98, 2, 4, 6, 8, 10, 34, 98, 2, 4, 6, 8, 10, 34, 98, 2, 4, 6, 8, 10, 34, 98], [1, 3, 5, 7, 9, 65, 87, 1, 3, 5, 7, 9, 65, 87, 1, 3, 5, 7, 9, 65, 87, 1, 3, 5, 7, 9, 65, 87, 1, 3, 5, 7, 9, 65, 87, 1, 3, 5, 7, 9, 65, 87, 1, 3, 5, 7, 9, 65, 87, 1, 3, 5, 7, 9, 65, 87, 1, 3, 5, 7, 9, 65, 87, 1, 3, 5, 7, 9, 65, 87])\n"
     ]
    }
   ],
   "source": [
    "list_display_03 =  fun_list(my_list_01)\n",
    "print(list_display_03)"
   ]
  },
  {
   "cell_type": "code",
   "execution_count": 56,
   "metadata": {},
   "outputs": [
    {
     "name": "stdout",
     "output_type": "stream",
     "text": [
      "([2, 4, 6, 8, 10, 34, 98, 2, 4, 6, 8, 10, 34, 98, 2, 4, 6, 8, 10, 34, 98, 2, 4, 6, 8, 10, 34, 98, 2, 4, 6, 8, 10, 34, 98, 2, 4, 6, 8, 10, 34, 98, 2, 4, 6, 8, 10, 34, 98, 2, 4, 6, 8, 10, 34, 98, 2, 4, 6, 8, 10, 34, 98, 2, 4, 6, 8, 10, 34, 98, 2, 4, 6, 8, 10, 34, 98], [1, 3, 5, 7, 9, 65, 87, 1, 3, 5, 7, 9, 65, 87, 1, 3, 5, 7, 9, 65, 87, 1, 3, 5, 7, 9, 65, 87, 1, 3, 5, 7, 9, 65, 87, 1, 3, 5, 7, 9, 65, 87, 1, 3, 5, 7, 9, 65, 87, 1, 3, 5, 7, 9, 65, 87, 1, 3, 5, 7, 9, 65, 87, 1, 3, 5, 7, 9, 65, 87, 1, 3, 5, 7, 9, 65, 87])\n"
     ]
    }
   ],
   "source": [
    "list_display_04 =  fun_list(my_list_01)\n",
    "print(list_display_04)"
   ]
  },
  {
   "cell_type": "code",
   "execution_count": 63,
   "metadata": {
    "collapsed": true
   },
   "outputs": [],
   "source": [
    "def fun_default(a, b=[]):\n",
    "    b.append(a)\n",
    "    return b"
   ]
  },
  {
   "cell_type": "code",
   "execution_count": 64,
   "metadata": {},
   "outputs": [
    {
     "name": "stdout",
     "output_type": "stream",
     "text": [
      "[2]\n"
     ]
    }
   ],
   "source": [
    "print(fun_default(2))"
   ]
  },
  {
   "cell_type": "code",
   "execution_count": 65,
   "metadata": {
    "collapsed": true
   },
   "outputs": [],
   "source": [
    "def fun_def_arg(a , b = None):\n",
    "    if b == None:\n",
    "        b = a\n",
    "    return a,b    "
   ]
  },
  {
   "cell_type": "code",
   "execution_count": 66,
   "metadata": {},
   "outputs": [
    {
     "name": "stdout",
     "output_type": "stream",
     "text": [
      "(2, 3)\n"
     ]
    }
   ],
   "source": [
    "print(fun_def_arg(2,3))"
   ]
  },
  {
   "cell_type": "code",
   "execution_count": 67,
   "metadata": {},
   "outputs": [
    {
     "name": "stdout",
     "output_type": "stream",
     "text": [
      "(2, 2)\n"
     ]
    }
   ],
   "source": [
    "print(fun_def_arg(2))"
   ]
  },
  {
   "cell_type": "code",
   "execution_count": 71,
   "metadata": {
    "collapsed": true
   },
   "outputs": [],
   "source": [
    "def_list = [3,34,98,9]\n",
    "list_def = []\n",
    "def fun_def_list(a , b = list_def):\n",
    "    if b == []:\n",
    "        b.append(a)\n",
    "    else:\n",
    "        for i in list_def:\n",
    "            b.append(i)\n",
    "    return a,b"
   ]
  },
  {
   "cell_type": "code",
   "execution_count": 72,
   "metadata": {},
   "outputs": [
    {
     "name": "stdout",
     "output_type": "stream",
     "text": [
      "(67, [67])\n"
     ]
    }
   ],
   "source": [
    "print(fun_def_list(67))"
   ]
  },
  {
   "cell_type": "code",
   "execution_count": 73,
   "metadata": {},
   "outputs": [
    {
     "name": "stdout",
     "output_type": "stream",
     "text": [
      "(67, [3, 34, 98, 9, 67])\n"
     ]
    }
   ],
   "source": [
    "print(fun_def_list(67,def_list))"
   ]
  },
  {
   "cell_type": "code",
   "execution_count": 74,
   "metadata": {
    "collapsed": true
   },
   "outputs": [],
   "source": [
    "def fun_mult_arg(*args):\n",
    "    return args"
   ]
  },
  {
   "cell_type": "code",
   "execution_count": 75,
   "metadata": {},
   "outputs": [
    {
     "name": "stdout",
     "output_type": "stream",
     "text": [
      "(23, 89, 46, 789)\n"
     ]
    }
   ],
   "source": [
    "print(fun_mult_arg(23,89,46,789))"
   ]
  },
  {
   "cell_type": "code",
   "execution_count": null,
   "metadata": {
    "collapsed": true
   },
   "outputs": [],
   "source": []
  }
 ],
 "metadata": {
  "kernelspec": {
   "display_name": "Python 3",
   "language": "python",
   "name": "python3"
  },
  "language_info": {
   "codemirror_mode": {
    "name": "ipython",
    "version": 3
   },
   "file_extension": ".py",
   "mimetype": "text/x-python",
   "name": "python",
   "nbconvert_exporter": "python",
   "pygments_lexer": "ipython3",
   "version": "3.6.3"
  }
 },
 "nbformat": 4,
 "nbformat_minor": 2
}
