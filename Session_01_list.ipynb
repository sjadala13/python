{
 "cells": [
  {
   "cell_type": "code",
   "execution_count": 5,
   "metadata": {
    "collapsed": true
   },
   "outputs": [],
   "source": [
    "list_01 = [1,2,3,4,5,6]"
   ]
  },
  {
   "cell_type": "markdown",
   "metadata": {},
   "source": [
    "### Append"
   ]
  },
  {
   "cell_type": "code",
   "execution_count": 6,
   "metadata": {},
   "outputs": [
    {
     "name": "stdout",
     "output_type": "stream",
     "text": [
      "[1, 2, 3, 4, 5, 6, 7]\n"
     ]
    }
   ],
   "source": [
    "list_01.append(7)\n",
    "print(list_01)"
   ]
  },
  {
   "cell_type": "code",
   "execution_count": 7,
   "metadata": {},
   "outputs": [
    {
     "name": "stdout",
     "output_type": "stream",
     "text": [
      "[1, 2, 3, 4, 5, 6, 7, 'Hello']\n"
     ]
    }
   ],
   "source": [
    "list_01.append('Hello')\n",
    "print(list_01)"
   ]
  },
  {
   "cell_type": "code",
   "execution_count": 8,
   "metadata": {},
   "outputs": [
    {
     "name": "stdout",
     "output_type": "stream",
     "text": [
      "[1, 2, 3, 4, 5, 6, 7, 'Hello', [2.2, 'Python', 10]]\n"
     ]
    }
   ],
   "source": [
    "list_02 = [2.2,'Python',10]\n",
    "list_01.append(list_02)\n",
    "print(list_01)"
   ]
  },
  {
   "cell_type": "code",
   "execution_count": 9,
   "metadata": {},
   "outputs": [
    {
     "name": "stdout",
     "output_type": "stream",
     "text": [
      "l\n"
     ]
    }
   ],
   "source": [
    "print(list_01[7][2])"
   ]
  },
  {
   "cell_type": "code",
   "execution_count": 10,
   "metadata": {},
   "outputs": [
    {
     "name": "stdout",
     "output_type": "stream",
     "text": [
      "e\n"
     ]
    }
   ],
   "source": [
    "print(list_01[7][1])"
   ]
  },
  {
   "cell_type": "code",
   "execution_count": 11,
   "metadata": {},
   "outputs": [
    {
     "name": "stdout",
     "output_type": "stream",
     "text": [
      "[1, 2, 3, 4, 5, 6, 7, 'Hello', [2.2, 'Python', 10], 'Scala'] [2.2, 'Python', 10]\n"
     ]
    }
   ],
   "source": [
    "list_01.append('Scala')\n",
    "print(list_01,list_02)"
   ]
  },
  {
   "cell_type": "markdown",
   "metadata": {},
   "source": [
    "### When we assign one list to another list if we change the original list the there will be change in the second list too because they will share the memory location"
   ]
  },
  {
   "cell_type": "code",
   "execution_count": 12,
   "metadata": {},
   "outputs": [
    {
     "name": "stdout",
     "output_type": "stream",
     "text": [
      "[2.2, 'Python', 10]\n",
      "[2.2, 'Python', 10, 'Apache Spark'] [2.2, 'Python', 10, 'Apache Spark']\n"
     ]
    }
   ],
   "source": [
    "list_03 = list_02\n",
    "print(list_03)\n",
    "list_02.append('Apache Spark')\n",
    "print(list_02,list_03)\n"
   ]
  },
  {
   "cell_type": "markdown",
   "metadata": {},
   "source": [
    "### Copy"
   ]
  },
  {
   "cell_type": "code",
   "execution_count": 13,
   "metadata": {
    "collapsed": true
   },
   "outputs": [],
   "source": [
    "list_cl = list_01.copy()"
   ]
  },
  {
   "cell_type": "code",
   "execution_count": 14,
   "metadata": {},
   "outputs": [
    {
     "name": "stdout",
     "output_type": "stream",
     "text": [
      "[1, 2, 3, 4, 5, 6, 7, 'Hello', [2.2, 'Python', 10, 'Apache Spark'], 'Scala']\n"
     ]
    }
   ],
   "source": [
    "print(list_cl)"
   ]
  },
  {
   "cell_type": "markdown",
   "metadata": {},
   "source": [
    "### Clear"
   ]
  },
  {
   "cell_type": "code",
   "execution_count": 15,
   "metadata": {},
   "outputs": [
    {
     "name": "stdout",
     "output_type": "stream",
     "text": [
      "[] [1, 2, 3, 4, 5, 6, 7, 'Hello', [2.2, 'Python', 10, 'Apache Spark'], 'Scala']\n"
     ]
    }
   ],
   "source": [
    "list_cl.clear()\n",
    "print(list_cl,list_01)"
   ]
  },
  {
   "cell_type": "markdown",
   "metadata": {},
   "source": [
    "### Count : we can give single element or multiple element and we can also give another list variable insidee count function"
   ]
  },
  {
   "cell_type": "code",
   "execution_count": 16,
   "metadata": {
    "collapsed": true
   },
   "outputs": [],
   "source": [
    "list_co = list_01.copy()\n",
    "list_co.append(7)\n",
    "list_co.append(list_02)"
   ]
  },
  {
   "cell_type": "code",
   "execution_count": 17,
   "metadata": {},
   "outputs": [
    {
     "name": "stdout",
     "output_type": "stream",
     "text": [
      "[1, 2, 3, 4, 5, 6, 7, 'Hello', [2.2, 'Python', 10, 'Apache Spark'], 'Scala', 7, [2.2, 'Python', 10, 'Apache Spark']]\n",
      "2\n"
     ]
    }
   ],
   "source": [
    "print(list_co,)\n",
    "print(list_co.count(7))"
   ]
  },
  {
   "cell_type": "code",
   "execution_count": 18,
   "metadata": {},
   "outputs": [
    {
     "name": "stdout",
     "output_type": "stream",
     "text": [
      "2\n"
     ]
    }
   ],
   "source": [
    "print(list_co.count(list_02))"
   ]
  },
  {
   "cell_type": "markdown",
   "metadata": {},
   "source": [
    "### Extend"
   ]
  },
  {
   "cell_type": "code",
   "execution_count": 19,
   "metadata": {},
   "outputs": [
    {
     "name": "stdout",
     "output_type": "stream",
     "text": [
      "['programming', 'data science']\n"
     ]
    }
   ],
   "source": [
    "list_ex = ['programming','data science']\n",
    "print(list_ex)"
   ]
  },
  {
   "cell_type": "code",
   "execution_count": 20,
   "metadata": {},
   "outputs": [
    {
     "name": "stdout",
     "output_type": "stream",
     "text": [
      "['programming', 'data science', 2.2, 'Python', 10, 'Apache Spark']\n"
     ]
    }
   ],
   "source": [
    "list_ex.extend(list_02)\n",
    "print(list_ex)"
   ]
  },
  {
   "cell_type": "markdown",
   "metadata": {},
   "source": [
    "### Index"
   ]
  },
  {
   "cell_type": "code",
   "execution_count": 21,
   "metadata": {},
   "outputs": [
    {
     "name": "stdout",
     "output_type": "stream",
     "text": [
      "4\n"
     ]
    }
   ],
   "source": [
    "print(list_ex.index(10))"
   ]
  },
  {
   "cell_type": "code",
   "execution_count": 22,
   "metadata": {},
   "outputs": [
    {
     "name": "stdout",
     "output_type": "stream",
     "text": [
      "8\n"
     ]
    }
   ],
   "source": [
    "print(list_co.index(list_02))"
   ]
  },
  {
   "cell_type": "markdown",
   "metadata": {},
   "source": [
    "### insert:takes two elements : index and value"
   ]
  },
  {
   "cell_type": "code",
   "execution_count": 23,
   "metadata": {},
   "outputs": [
    {
     "name": "stdout",
     "output_type": "stream",
     "text": [
      "['element', 'i']\n"
     ]
    }
   ],
   "source": [
    "list_i = ['i']\n",
    "list_i.insert(0,'element')\n",
    "print(list_i)"
   ]
  },
  {
   "cell_type": "code",
   "execution_count": 24,
   "metadata": {},
   "outputs": [
    {
     "name": "stdout",
     "output_type": "stream",
     "text": [
      "['element', [2.2, 'Python', 10, 'Apache Spark'], 'i']\n"
     ]
    }
   ],
   "source": [
    "list_i.insert(1,list_02)\n",
    "print(list_i)"
   ]
  },
  {
   "cell_type": "markdown",
   "metadata": {},
   "source": [
    "### pop: if give the index then it will drop the specified index value, when index is not passed the it will drop the last value from the index"
   ]
  },
  {
   "cell_type": "code",
   "execution_count": 25,
   "metadata": {
    "collapsed": true
   },
   "outputs": [],
   "source": [
    "list_pop = ['Python', 'Java', 'C++', 'French', 'C']"
   ]
  },
  {
   "cell_type": "code",
   "execution_count": 26,
   "metadata": {},
   "outputs": [
    {
     "name": "stdout",
     "output_type": "stream",
     "text": [
      "['Python', 'Java', 'French', 'C']\n"
     ]
    }
   ],
   "source": [
    "list_pop.pop(2)\n",
    "print(list_pop)"
   ]
  },
  {
   "cell_type": "code",
   "execution_count": 27,
   "metadata": {},
   "outputs": [
    {
     "name": "stdout",
     "output_type": "stream",
     "text": [
      "['Python', 'Java', 'French']\n"
     ]
    }
   ],
   "source": [
    "list_pop.pop()\n",
    "print(list_pop)"
   ]
  },
  {
   "cell_type": "markdown",
   "metadata": {},
   "source": [
    "### remove: Remove Element From The List,List having Duplicate Elements then removes only the first occured element from the list "
   ]
  },
  {
   "cell_type": "code",
   "execution_count": 28,
   "metadata": {},
   "outputs": [
    {
     "name": "stdout",
     "output_type": "stream",
     "text": [
      "['Python', 'Java', 'French']\n"
     ]
    }
   ],
   "source": [
    "list_rmv = list_pop.copy()\n",
    "print(list_rmv)"
   ]
  },
  {
   "cell_type": "code",
   "execution_count": 29,
   "metadata": {},
   "outputs": [
    {
     "name": "stdout",
     "output_type": "stream",
     "text": [
      "['Python', 'Java', 'French', 'programming', 'data science', 2.2, 'Python', 10, 'Apache Spark']\n"
     ]
    }
   ],
   "source": [
    "list_rmv.extend(list_ex)\n",
    "print(list_rmv)"
   ]
  },
  {
   "cell_type": "code",
   "execution_count": 30,
   "metadata": {},
   "outputs": [
    {
     "name": "stdout",
     "output_type": "stream",
     "text": [
      "['Java', 'French', 'programming', 'data science', 2.2, 'Python', 10, 'Apache Spark']\n"
     ]
    }
   ],
   "source": [
    "list_rmv.remove('Python')\n",
    "print(list_rmv)"
   ]
  },
  {
   "cell_type": "markdown",
   "metadata": {},
   "source": [
    "### reverse"
   ]
  },
  {
   "cell_type": "code",
   "execution_count": 31,
   "metadata": {},
   "outputs": [
    {
     "name": "stdout",
     "output_type": "stream",
     "text": [
      "['Windows', 'macOS', 'Linux']\n",
      "['Linux', 'macOS', 'Windows']\n",
      "['Linux', 'macOS', 'Windows', 'Python', 'Java', 'French']\n"
     ]
    }
   ],
   "source": [
    "list_rev = ['Windows', 'macOS', 'Linux']\n",
    "print(list_rev)\n",
    "list_rev.reverse()\n",
    "print(list_rev)\n",
    "list_rev.extend(list_pop)\n",
    "print(list_rev)"
   ]
  },
  {
   "cell_type": "code",
   "execution_count": 32,
   "metadata": {},
   "outputs": [
    {
     "name": "stdout",
     "output_type": "stream",
     "text": [
      "['French', 'Java', 'Python', 'Windows', 'macOS', 'Linux']\n"
     ]
    }
   ],
   "source": [
    "list_rev.reverse()\n",
    "print(list_rev)"
   ]
  },
  {
   "cell_type": "markdown",
   "metadata": {},
   "source": [
    "### Sort"
   ]
  },
  {
   "cell_type": "code",
   "execution_count": 33,
   "metadata": {},
   "outputs": [
    {
     "name": "stdout",
     "output_type": "stream",
     "text": [
      "['a', 'd', 'f', 'q', 'z']\n"
     ]
    }
   ],
   "source": [
    "list_st = ['a','z','d','q','f']\n",
    "list_st.sort()\n",
    "print(list_st)"
   ]
  },
  {
   "cell_type": "code",
   "execution_count": 34,
   "metadata": {},
   "outputs": [
    {
     "name": "stdout",
     "output_type": "stream",
     "text": [
      "['a', 'd', 'f', 'q', 'z', 'Python', 'Java', 'French']\n",
      "['French', 'Java', 'Python', 'a', 'd', 'f', 'q', 'z']\n"
     ]
    }
   ],
   "source": [
    "list_st.extend(list_pop)\n",
    "print(list_st)\n",
    "list_st.sort()\n",
    "print(list_st)"
   ]
  },
  {
   "cell_type": "markdown",
   "metadata": {
    "collapsed": true
   },
   "source": [
    "### Converting List to tuple"
   ]
  },
  {
   "cell_type": "code",
   "execution_count": 35,
   "metadata": {},
   "outputs": [
    {
     "name": "stdout",
     "output_type": "stream",
     "text": [
      "['French', 'Java', 'Python', 'Windows', 'macOS', 'Linux']\n"
     ]
    }
   ],
   "source": [
    "list_tu = list_rev.copy()\n",
    "print(list_tu)"
   ]
  },
  {
   "cell_type": "code",
   "execution_count": 36,
   "metadata": {
    "collapsed": true
   },
   "outputs": [],
   "source": [
    "tuple_01 = tuple(list_tu)"
   ]
  },
  {
   "cell_type": "code",
   "execution_count": 37,
   "metadata": {},
   "outputs": [
    {
     "name": "stdout",
     "output_type": "stream",
     "text": [
      "('French', 'Java', 'Python', 'Windows', 'macOS', 'Linux')\n"
     ]
    }
   ],
   "source": [
    "print(tuple_01)"
   ]
  },
  {
   "cell_type": "code",
   "execution_count": null,
   "metadata": {
    "collapsed": true
   },
   "outputs": [],
   "source": []
  }
 ],
 "metadata": {
  "kernelspec": {
   "display_name": "Python 3",
   "language": "python",
   "name": "python3"
  },
  "language_info": {
   "codemirror_mode": {
    "name": "ipython",
    "version": 3
   },
   "file_extension": ".py",
   "mimetype": "text/x-python",
   "name": "python",
   "nbconvert_exporter": "python",
   "pygments_lexer": "ipython3",
   "version": "3.6.3"
  }
 },
 "nbformat": 4,
 "nbformat_minor": 2
}
